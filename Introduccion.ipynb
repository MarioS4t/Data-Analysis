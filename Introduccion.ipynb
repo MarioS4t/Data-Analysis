{
 "cells": [
  {
   "cell_type": "markdown",
   "id": "fc98f85b-6714-4819-8b09-f7b1a7da58af",
   "metadata": {},
   "source": [
    "# Introducción al análisis de Datos con python"
   ]
  },
  {
   "cell_type": "markdown",
   "id": "b6ab3e77-0c9e-4310-87c1-f905392e1eed",
   "metadata": {},
   "source": [
    "## Funciones lambda\n",
    "Una forma de escribir funciones que consisten en una única sentencia, el resultado de la cual es el valor devuelto."
   ]
  },
  {
   "cell_type": "code",
   "execution_count": 7,
   "id": "eaad7b0a-f250-4c26-9ce0-dd5ffaadf2eb",
   "metadata": {},
   "outputs": [
    {
     "data": {
      "text/plain": [
       "['aaaa', 'foo', 'abab', 'bar', 'card']"
      ]
     },
     "execution_count": 7,
     "metadata": {},
     "output_type": "execute_result"
    }
   ],
   "source": [
    "#ordenar una colección de cadenas de texto por el número de las letras de que se compone cada cadena\n",
    "strings = [\"foo\", \"card\", \"bar\", \"aaaa\", \"abab\"]\n",
    "strings.sort(key=lambda x: len(set(x)))\n",
    "strings"
   ]
  },
  {
   "cell_type": "markdown",
   "id": "d83ae9af-f80a-488a-8d4c-ed8ed30df96f",
   "metadata": {},
   "source": [
    "#### Generadores\n",
    "Esto se lleva a cabo por medio del protocolo iterador, una forma genérica de hacer que los objetos sean iterables."
   ]
  },
  {
   "cell_type": "code",
   "execution_count": 14,
   "id": "6d38984b-35c0-4dbd-8342-35e82157ecf2",
   "metadata": {},
   "outputs": [
    {
     "data": {
      "text/plain": [
       "<generator object <genexpr> at 0x71a42dd50380>"
      ]
     },
     "execution_count": 14,
     "metadata": {},
     "output_type": "execute_result"
    }
   ],
   "source": [
    "gen = (x ** 2 for x in range(100))\n",
    "gen"
   ]
  },
  {
   "cell_type": "code",
   "execution_count": 15,
   "id": "cf29a8ba-332a-4f0d-b6ea-65a5f0771d5c",
   "metadata": {},
   "outputs": [
    {
     "data": {
      "text/plain": [
       "328350"
      ]
     },
     "execution_count": 15,
     "metadata": {},
     "output_type": "execute_result"
    }
   ],
   "source": [
    "sum(gen)"
   ]
  },
  {
   "cell_type": "code",
   "execution_count": 17,
   "id": "057b6951-3f11-466d-a07d-c50cce985d12",
   "metadata": {},
   "outputs": [
    {
     "data": {
      "text/plain": [
       "{0: 0, 1: 1, 2: 4, 3: 9, 4: 16}"
      ]
     },
     "execution_count": 17,
     "metadata": {},
     "output_type": "execute_result"
    }
   ],
   "source": [
    "dict((x, x**2) for x in range(5))"
   ]
  },
  {
   "cell_type": "markdown",
   "id": "4e7d8eb6-f91d-4ef0-9d2d-d0cf32844fc3",
   "metadata": {},
   "source": [
    "### Manejo de errores"
   ]
  },
  {
   "cell_type": "code",
   "execution_count": 18,
   "id": "8dbb2312-7685-4869-86f9-a000850e2cce",
   "metadata": {},
   "outputs": [
    {
     "data": {
      "text/plain": [
       "1.0"
      ]
     },
     "execution_count": 18,
     "metadata": {},
     "output_type": "execute_result"
    }
   ],
   "source": [
    "def attemp_to_float(x):\n",
    "    try:\n",
    "        return float(x)\n",
    "    except:\n",
    "        return x\n",
    "attemp_to_float('1')"
   ]
  },
  {
   "cell_type": "code",
   "execution_count": 19,
   "id": "056144d2-d1c0-4290-8d05-0ac08a2fc671",
   "metadata": {},
   "outputs": [
    {
     "data": {
      "text/plain": [
       "'someting'"
      ]
     },
     "execution_count": 19,
     "metadata": {},
     "output_type": "execute_result"
    }
   ],
   "source": [
    "attemp_to_float('someting')"
   ]
  },
  {
   "cell_type": "markdown",
   "id": "9f399b5d-50dc-4e37-ab6b-899ecdbd0880",
   "metadata": {},
   "source": [
    "## Numpy"
   ]
  },
  {
   "cell_type": "code",
   "execution_count": 1,
   "id": "128b5421-4013-4fd6-b23a-fb38346e4fc3",
   "metadata": {},
   "outputs": [],
   "source": [
    "import numpy as np"
   ]
  },
  {
   "cell_type": "code",
   "execution_count": 3,
   "id": "1ce30387-1420-4d35-8060-9765bfd1acec",
   "metadata": {},
   "outputs": [
    {
     "data": {
      "text/plain": [
       "array([[ 1.5, -0.1,  3. ],\n",
       "       [ 0. , -3. ,  6.5]])"
      ]
     },
     "execution_count": 3,
     "metadata": {},
     "output_type": "execute_result"
    }
   ],
   "source": [
    "data = np.array([[1.5, -0.1, 3], [0, -3, 6.5]])\n",
    "data"
   ]
  },
  {
   "cell_type": "code",
   "execution_count": 4,
   "id": "7e82160c-48a1-4123-864a-c7285d09a958",
   "metadata": {},
   "outputs": [
    {
     "data": {
      "text/plain": [
       "array([[ 15.,  -1.,  30.],\n",
       "       [  0., -30.,  65.]])"
      ]
     },
     "execution_count": 4,
     "metadata": {},
     "output_type": "execute_result"
    }
   ],
   "source": [
    "data * 10"
   ]
  },
  {
   "cell_type": "code",
   "execution_count": 5,
   "id": "b1cbe539-f90e-4711-bbbf-427a6c1c3912",
   "metadata": {},
   "outputs": [
    {
     "data": {
      "text/plain": [
       "array([[ 3. , -0.2,  6. ],\n",
       "       [ 0. , -6. , 13. ]])"
      ]
     },
     "execution_count": 5,
     "metadata": {},
     "output_type": "execute_result"
    }
   ],
   "source": [
    "data + data"
   ]
  },
  {
   "cell_type": "code",
   "execution_count": null,
   "id": "69648ab9-ed9d-4e0f-a7aa-6bc3096a24ff",
   "metadata": {},
   "outputs": [],
   "source": []
  }
 ],
 "metadata": {
  "kernelspec": {
   "display_name": "Python 3 (ipykernel)",
   "language": "python",
   "name": "python3"
  },
  "language_info": {
   "codemirror_mode": {
    "name": "ipython",
    "version": 3
   },
   "file_extension": ".py",
   "mimetype": "text/x-python",
   "name": "python",
   "nbconvert_exporter": "python",
   "pygments_lexer": "ipython3",
   "version": "3.12.3"
  }
 },
 "nbformat": 4,
 "nbformat_minor": 5
}
